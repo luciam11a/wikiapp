{
 "cells": [
  {
   "cell_type": "markdown",
   "id": "4844d3e4-6e0c-4d60-836d-8817e6654af6",
   "metadata": {},
   "source": [
    "---\n",
    "title: Wikipedia Module\n",
    "---"
   ]
  },
  {
   "cell_type": "code",
   "execution_count": 11,
   "id": "1ffcc212-4df6-47b0-a799-761c47c71121",
   "metadata": {},
   "outputs": [],
   "source": [
    "from wikiapp.wikipedia import random_page, Page"
   ]
  },
  {
   "cell_type": "code",
   "execution_count": 12,
   "id": "a0e1aeac-5e5f-41d8-9d65-2b61ee033739",
   "metadata": {},
   "outputs": [],
   "source": [
    "from nbdev import show_doc"
   ]
  },
  {
   "cell_type": "code",
   "execution_count": 13,
   "id": "df09bb49-714b-4eb1-8d0e-276a223a756c",
   "metadata": {},
   "outputs": [
    {
     "data": {
      "text/markdown": [
       "---\n",
       "\n",
       "### Page\n",
       "\n",
       ">      Page (title:str, extract:str)\n",
       "\n",
       "*A Page Dataclass to represent the return value from wikipedia*"
      ],
      "text/plain": [
       "---\n",
       "\n",
       "### Page\n",
       "\n",
       ">      Page (title:str, extract:str)\n",
       "\n",
       "*A Page Dataclass to represent the return value from wikipedia*"
      ]
     },
     "execution_count": 13,
     "metadata": {},
     "output_type": "execute_result"
    }
   ],
   "source": [
    "show_doc(Page)"
   ]
  },
  {
   "cell_type": "code",
   "execution_count": 14,
   "id": "e9e1f785-da04-4def-a9b0-901e7cd6c6dc",
   "metadata": {},
   "outputs": [
    {
     "data": {
      "text/markdown": [
       "---\n",
       "\n",
       "### random_page\n",
       "\n",
       ">      random_page (language:str='en')\n",
       "\n",
       "*Get a random page from wikipedia.*\n",
       "\n",
       "|    | **Type** | **Default** | **Details** |\n",
       "| -- | -------- | ----------- | ----------- |\n",
       "| language | str | en | the language you want to use, as a two character string. |\n",
       "| **Returns** | **Page** |  | **returns a page object** |"
      ],
      "text/plain": [
       "---\n",
       "\n",
       "### random_page\n",
       "\n",
       ">      random_page (language:str='en')\n",
       "\n",
       "*Get a random page from wikipedia.*\n",
       "\n",
       "|    | **Type** | **Default** | **Details** |\n",
       "| -- | -------- | ----------- | ----------- |\n",
       "| language | str | en | the language you want to use, as a two character string. |\n",
       "| **Returns** | **Page** |  | **returns a page object** |"
      ]
     },
     "execution_count": 14,
     "metadata": {},
     "output_type": "execute_result"
    }
   ],
   "source": [
    "show_doc(random_page)"
   ]
  },
  {
   "cell_type": "markdown",
   "id": "735087b1-089f-40ba-b5b3-c8c8b517adb0",
   "metadata": {},
   "source": [
    "## Examples "
   ]
  },
  {
   "cell_type": "code",
   "execution_count": 15,
   "id": "9ee2c888-cdaf-4f06-9374-66f04e78cd08",
   "metadata": {},
   "outputs": [
    {
     "name": "stdout",
     "output_type": "stream",
     "text": [
      "TITLE Goran Paskaljević\n",
      "EXTRACT Goran Paskaljević was a Serbian and former Yugoslav film director.\n"
     ]
    }
   ],
   "source": [
    "page = random_page()\n",
    "print(\"TITLE\", page.title)\n",
    "print(\"EXTRACT\", page.extract)"
   ]
  },
  {
   "cell_type": "markdown",
   "id": "43ecc72e-d930-4ad9-bb90-160caedaefcf",
   "metadata": {},
   "source": [
    "You can change the language you want:"
   ]
  },
  {
   "cell_type": "code",
   "execution_count": 18,
   "id": "4e39100a-2e08-4541-81fd-cdd061cdd6c4",
   "metadata": {},
   "outputs": [
    {
     "name": "stdout",
     "output_type": "stream",
     "text": [
      "TITLE Circuit Het Nieuwsblad féminin\n",
      "EXTRACT Le Circuit Het Nieuwsblad féminin est une course cycliste féminine belge. Créé en 2006, il fait partie du calendrier de l'Union cycliste internationale en catégorie 1.2. À partir de 2016, il est classé en 1.1. La course est longue d'environ 120 kilomètres, son départ est à Deerlijk et son arrivée se situe à Deinze. C'est la version féminine du Circuit Het Nieuwsblad.\n"
     ]
    }
   ],
   "source": [
    "page = random_page(language=\"fr\")\n",
    "print(\"TITLE\", page.title)\n",
    "print(\"EXTRACT\", page.extract)"
   ]
  },
  {
   "cell_type": "code",
   "execution_count": null,
   "id": "1c684703-b199-4064-9d3e-99e598c36ad8",
   "metadata": {},
   "outputs": [],
   "source": []
  }
 ],
 "metadata": {
  "kernelspec": {
   "display_name": "Python 3 (ipykernel)",
   "language": "python",
   "name": "python3"
  },
  "language_info": {
   "codemirror_mode": {
    "name": "ipython",
    "version": 3
   },
   "file_extension": ".py",
   "mimetype": "text/x-python",
   "name": "python",
   "nbconvert_exporter": "python",
   "pygments_lexer": "ipython3",
   "version": "3.12.3"
  }
 },
 "nbformat": 4,
 "nbformat_minor": 5
}
