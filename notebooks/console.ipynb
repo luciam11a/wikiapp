{
 "cells": [
  {
   "cell_type": "markdown",
   "id": "152a9a85-ce10-41d9-a65b-d46b6afa06be",
   "metadata": {},
   "source": [
    "---\n",
    "title: Console Module\n",
    "---"
   ]
  },
  {
   "cell_type": "code",
   "execution_count": 1,
   "id": "19768e34-5467-4614-8f9f-a79722c8be06",
   "metadata": {},
   "outputs": [],
   "source": [
    "from wikiapp.console import main "
   ]
  },
  {
   "cell_type": "code",
   "execution_count": 6,
   "id": "3cc4e27e-f811-47f0-a9e0-8d0f1fe58390",
   "metadata": {},
   "outputs": [],
   "source": [
    "from nbdev import show_doc \n",
    "from click.testing import CliRunner\n",
    "runner = CliRunner()"
   ]
  },
  {
   "cell_type": "code",
   "execution_count": 7,
   "id": "65d16dd2-6873-4525-939f-90ff5149a9f8",
   "metadata": {},
   "outputs": [
    {
     "data": {
      "text/markdown": [
       "---\n",
       "\n",
       "### <Command main>\n",
       "\n",
       ">      <Command main> (*args:Any, **kwargs:Any)\n",
       "\n",
       "*this is the console interface to 'random_page' function in wikipedia.py*"
      ],
      "text/plain": [
       "---\n",
       "\n",
       "### <Command main>\n",
       "\n",
       ">      <Command main> (*args:Any, **kwargs:Any)\n",
       "\n",
       "*this is the console interface to 'random_page' function in wikipedia.py*"
      ]
     },
     "execution_count": 7,
     "metadata": {},
     "output_type": "execute_result"
    }
   ],
   "source": [
    "show_doc(main)"
   ]
  },
  {
   "cell_type": "markdown",
   "id": "995a1f72-9ad4-42c9-9064-bb2465d1cef8",
   "metadata": {},
   "source": [
    "## Examples "
   ]
  },
  {
   "cell_type": "code",
   "execution_count": 8,
   "id": "594edf01-7a0e-4e98-9037-0ede972c8b68",
   "metadata": {},
   "outputs": [
    {
     "data": {
      "text/plain": [
       "<Result okay>"
      ]
     },
     "execution_count": 8,
     "metadata": {},
     "output_type": "execute_result"
    }
   ],
   "source": [
    "runner.invoke(main)"
   ]
  },
  {
   "cell_type": "code",
   "execution_count": null,
   "id": "d6cd113b-752a-4fe8-ab43-ab46d51f5ae5",
   "metadata": {},
   "outputs": [],
   "source": []
  }
 ],
 "metadata": {
  "kernelspec": {
   "display_name": "Python 3 (ipykernel)",
   "language": "python",
   "name": "python3"
  },
  "language_info": {
   "codemirror_mode": {
    "name": "ipython",
    "version": 3
   },
   "file_extension": ".py",
   "mimetype": "text/x-python",
   "name": "python",
   "nbconvert_exporter": "python",
   "pygments_lexer": "ipython3",
   "version": "3.12.3"
  }
 },
 "nbformat": 4,
 "nbformat_minor": 5
}
